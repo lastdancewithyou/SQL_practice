{
 "cells": [
  {
   "cell_type": "markdown",
   "id": "0e1d77c6",
   "metadata": {},
   "source": [
    "# 데이터 생성(MySQL)"
   ]
  },
  {
   "cell_type": "code",
   "execution_count": 41,
   "id": "63ac927b",
   "metadata": {
    "ExecuteTime": {
     "end_time": "2023-05-18T09:07:22.299600Z",
     "start_time": "2023-05-18T09:07:08.917649Z"
    },
    "scrolled": true
   },
   "outputs": [
    {
     "name": "stdout",
     "output_type": "stream",
     "text": [
      "사용자 ID ==> soo\n",
      "사용자 이름 ==> 임수임수\n",
      "사용자 이메일 ==> suim98\n",
      "사용자 출생년도 ==> 1998\n",
      "사용자 ID ==> \n",
      "데이터베이스 추가를 종료합니다.\n"
     ]
    }
   ],
   "source": [
    "import pymysql\n",
    "\n",
    "# 전역변수 선언부\n",
    "conn, cur = None, None\n",
    "data1, data2, data3, data4 = \"\", \"\", \"\", \"\"\n",
    "sql = \"\"\n",
    "\n",
    "# 메인 코드\n",
    "conn = pymysql.connect(host = '127.0.0.1', user = 'root', password = 'subin1220', \n",
    "                       db = 'test_db', charset = 'utf8')\n",
    "cur = conn.cursor()\n",
    "\n",
    "while(True) : \n",
    "    data1 = input(\"사용자 ID ==> \")\n",
    "    if data1 == \"\":\n",
    "        break\n",
    "    data2 = input(\"사용자 이름 ==> \")\n",
    "    data3 = input(\"사용자 이메일 ==> \")\n",
    "    data4 = input(\"사용자 출생년도 ==> \")\n",
    "    # INSERT INTO userTable VALUES('hong', '홍지윤', 'hong@naver.com', 1996)\n",
    "    sql = \"INSERT INTO userTable VALUES('\" + data1 + \"', '\" + data2 + \"', '\"+ data3 + \"',\" + data4 +\")\"\n",
    "    cur.execute(sql)\n",
    "    \n",
    "conn.commit()\n",
    "print(\"데이터베이스 추가를 종료합니다.\")\n",
    "conn.close()"
   ]
  },
  {
   "cell_type": "markdown",
   "id": "b02c900f",
   "metadata": {},
   "source": [
    "# 데이터 조회(MySQL)"
   ]
  },
  {
   "cell_type": "code",
   "execution_count": 42,
   "id": "494d8371",
   "metadata": {
    "ExecuteTime": {
     "end_time": "2023-05-18T09:10:24.370327Z",
     "start_time": "2023-05-18T09:10:24.354710Z"
    }
   },
   "outputs": [
    {
     "name": "stdout",
     "output_type": "stream",
     "text": [
      "사용자ID   사용자이름           이메일        출생연도\n",
      "-----------------------------------------------\n",
      "   su       수빈       suim@naver.com     1998\n",
      " suim      임수빈      subin@naver.com     1998\n",
      " gang       강민   gangminj@naver.com     1998\n",
      "  soo     임수임수               suim98     1998\n"
     ]
    }
   ],
   "source": [
    "import pymysql\n",
    "\n",
    "# 전역변수 선언부\n",
    "conn, cur = None, None\n",
    "data1, data2, data3, data4 = \"\", \"\", \"\", \"\"\n",
    "row = None\n",
    "\n",
    "# 메인 코드\n",
    "conn = pymysql.connect(host = '127.0.0.1', user = 'root', password = 'subin1220', \n",
    "                       db = 'test_db', charset = 'utf8')\n",
    "cur = conn.cursor()\n",
    "\n",
    "cur.execute(\"SELECT * FROM userTable\")\n",
    "print(\"사용자ID   사용자이름           이메일        출생연도\")\n",
    "print(\"-----------------------------------------------\")\n",
    "\n",
    "while(True) : \n",
    "    row = cur.fetchone()\n",
    "    if row == None : \n",
    "        break \n",
    "    data1 = row[0]\n",
    "    data2 = row[1]\n",
    "    data3 = row[2]\n",
    "    data4 = row[3]\n",
    "    print(\"%5s %8s %20s %8d\" % (data1, data2, data3, data4))\n",
    "\n",
    "conn.close()"
   ]
  }
 ],
 "metadata": {
  "kernelspec": {
   "display_name": "Python 3 (ipykernel)",
   "language": "python",
   "name": "python3"
  },
  "language_info": {
   "codemirror_mode": {
    "name": "ipython",
    "version": 3
   },
   "file_extension": ".py",
   "mimetype": "text/x-python",
   "name": "python",
   "nbconvert_exporter": "python",
   "pygments_lexer": "ipython3",
   "version": "3.9.13"
  },
  "toc": {
   "base_numbering": 1,
   "nav_menu": {},
   "number_sections": true,
   "sideBar": true,
   "skip_h1_title": false,
   "title_cell": "Table of Contents",
   "title_sidebar": "Contents",
   "toc_cell": false,
   "toc_position": {},
   "toc_section_display": true,
   "toc_window_display": true
  }
 },
 "nbformat": 4,
 "nbformat_minor": 5
}
