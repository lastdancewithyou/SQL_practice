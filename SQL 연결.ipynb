{
 "cells": [
  {
   "cell_type": "code",
   "execution_count": 6,
   "id": "9b9fcbf8",
   "metadata": {
    "ExecuteTime": {
     "end_time": "2023-05-18T04:09:48.689265Z",
     "start_time": "2023-05-18T04:09:48.560014Z"
    }
   },
   "outputs": [],
   "source": [
    "import pymysql"
   ]
  },
  {
   "cell_type": "code",
   "execution_count": 20,
   "id": "9a090569",
   "metadata": {
    "ExecuteTime": {
     "end_time": "2023-05-18T05:28:07.588120Z",
     "start_time": "2023-05-18T05:28:07.575819Z"
    }
   },
   "outputs": [],
   "source": [
    "# MYSQL 연결하기\n",
    "conn = pymysql.connect(host = '127.0.0.1', user = 'root', password = 'subin1220', \n",
    "                       db = 'test_db', charset = 'utf8')"
   ]
  },
  {
   "cell_type": "code",
   "execution_count": 21,
   "id": "23ccaca9",
   "metadata": {
    "ExecuteTime": {
     "end_time": "2023-05-18T05:28:09.360719Z",
     "start_time": "2023-05-18T05:28:09.357031Z"
    }
   },
   "outputs": [],
   "source": [
    "# 커서 생성하기\n",
    "cur = conn.cursor()"
   ]
  },
  {
   "cell_type": "code",
   "execution_count": 22,
   "id": "e7a1c46f",
   "metadata": {
    "ExecuteTime": {
     "end_time": "2023-05-18T05:28:10.946665Z",
     "start_time": "2023-05-18T05:28:10.933734Z"
    }
   },
   "outputs": [
    {
     "data": {
      "text/plain": [
       "0"
      ]
     },
     "execution_count": 22,
     "metadata": {},
     "output_type": "execute_result"
    }
   ],
   "source": [
    "# 테이블 만들기\n",
    "cur.execute(\"CREATE TABLE userTable (id char(4), userName char(15), email char(20), birthYear int)\")"
   ]
  },
  {
   "cell_type": "code",
   "execution_count": 15,
   "id": "cf99226b",
   "metadata": {
    "ExecuteTime": {
     "end_time": "2023-05-18T04:19:32.007885Z",
     "start_time": "2023-05-18T04:19:31.993164Z"
    }
   },
   "outputs": [
    {
     "data": {
      "text/plain": [
       "1"
      ]
     },
     "execution_count": 15,
     "metadata": {},
     "output_type": "execute_result"
    }
   ],
   "source": [
    "# 1행 추가\n",
    "cur.execute(\"INSERT INTO userTable VALUES('hong', '홍지윤', 'hong@naver.com', 1996)\")"
   ]
  },
  {
   "cell_type": "code",
   "execution_count": 16,
   "id": "78ec540b",
   "metadata": {
    "ExecuteTime": {
     "end_time": "2023-05-18T04:21:26.626621Z",
     "start_time": "2023-05-18T04:21:26.617509Z"
    }
   },
   "outputs": [
    {
     "data": {
      "text/plain": [
       "1"
      ]
     },
     "execution_count": 16,
     "metadata": {},
     "output_type": "execute_result"
    }
   ],
   "source": [
    "# 잔여 행 추가\n",
    "cur.execute(\"INSERT INTO userTable VALUES('kim', '김태연', 'kim@daum.net', 2011)\")\n",
    "cur.execute(\"INSERT INTO userTable VALUES('star', '별사랑', 'star@paran.com', 1990)\")\n",
    "cur.execute(\"INSERT INTO userTable VALUES('yang', '양지은', 'yang@gmail.com', 1993)\")"
   ]
  },
  {
   "cell_type": "code",
   "execution_count": 23,
   "id": "2b20c1ec",
   "metadata": {
    "ExecuteTime": {
     "end_time": "2023-05-18T05:28:14.880630Z",
     "start_time": "2023-05-18T05:28:14.876469Z"
    }
   },
   "outputs": [],
   "source": [
    "# 입력한 데이터 저장하기\n",
    "conn.commit()"
   ]
  },
  {
   "cell_type": "code",
   "execution_count": 24,
   "id": "ed25073e",
   "metadata": {
    "ExecuteTime": {
     "end_time": "2023-05-18T05:28:15.806423Z",
     "start_time": "2023-05-18T05:28:15.802427Z"
    }
   },
   "outputs": [],
   "source": [
    "# MySQL 연결 종료하기\n",
    "conn.close()"
   ]
  },
  {
   "cell_type": "code",
   "execution_count": null,
   "id": "ab1ce78e",
   "metadata": {},
   "outputs": [],
   "source": []
  },
  {
   "cell_type": "code",
   "execution_count": null,
   "id": "8f0fc886",
   "metadata": {},
   "outputs": [],
   "source": []
  },
  {
   "cell_type": "code",
   "execution_count": null,
   "id": "846d181b",
   "metadata": {},
   "outputs": [],
   "source": []
  }
 ],
 "metadata": {
  "kernelspec": {
   "display_name": "Python 3 (ipykernel)",
   "language": "python",
   "name": "python3"
  },
  "language_info": {
   "codemirror_mode": {
    "name": "ipython",
    "version": 3
   },
   "file_extension": ".py",
   "mimetype": "text/x-python",
   "name": "python",
   "nbconvert_exporter": "python",
   "pygments_lexer": "ipython3",
   "version": "3.9.13"
  },
  "toc": {
   "base_numbering": 1,
   "nav_menu": {},
   "number_sections": true,
   "sideBar": true,
   "skip_h1_title": false,
   "title_cell": "Table of Contents",
   "title_sidebar": "Contents",
   "toc_cell": false,
   "toc_position": {},
   "toc_section_display": true,
   "toc_window_display": true
  }
 },
 "nbformat": 4,
 "nbformat_minor": 5
}
